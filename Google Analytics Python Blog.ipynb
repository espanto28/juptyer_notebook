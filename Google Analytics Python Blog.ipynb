{
 "cells": [
  {
   "cell_type": "raw",
   "metadata": {},
   "source": [
    "This blog post will illustrate an example of using Python Pandas and Seaborn library with Google Analytics's Core reporting API to do some basic analysis and some basic visualizations. \n",
    "\n",
    "Pandas is a Python library for data analysis. This library is useful when you want to take a deeper dive into a dataset. The benefit of using Pandas with Google Analaytics is that there is a built in module called \"ga\" to read Google Analytics data.\n",
    "\n",
    "More on Pandas and Google Analytics can be found here: http://pandas.pydata.org/pandas-docs/stable/remote_data.html\n",
    "\n",
    "Seaborn is Python visualizaton library that is useful for making stastical graphs and interactive graphs. \n",
    "\n",
    "More on Seaborn can be found here:https://pypi.python.org/pypi/seaborn/\n",
    "\n",
    "For this example we will go into the process of using Python and Google Analytics. If you require information on how to set up Google Analytics API and Python more information can be found on the following links:\n",
    "\n",
    "1.) http://pandas.pydata.org/pandas-docs/stable/remote_data.html\n",
    "2.) https://developers.google.com/analytics/devguides/reporting/core/v3/quickstart/installed-py\n",
    "\n"
   ]
  },
  {
   "cell_type": "code",
   "execution_count": 1,
   "metadata": {
    "collapsed": true
   },
   "outputs": [],
   "source": [
    "#Here we import the necessary modules to activate the API.\n",
    "#Note my set up my differ from yours since I am using Python 3.5\n",
    "\n",
    "##Importing Pandas and Numpy\n",
    "import pandas as pd\n",
    "from pandas import Series,DataFrame\n",
    "import numpy as np"
   ]
  },
  {
   "cell_type": "code",
   "execution_count": 2,
   "metadata": {
    "collapsed": true
   },
   "outputs": [],
   "source": [
    "##Import Seaborn\n",
    "import matplotlib.pyplot as plt\n",
    "import seaborn as sns\n",
    "sns.set_style('whitegrid')\n",
    "%matplotlib inline\n"
   ]
  },
  {
   "cell_type": "code",
   "execution_count": 6,
   "metadata": {
    "collapsed": false
   },
   "outputs": [],
   "source": [
    "#Importing GA object\n",
    "import pandas.io.ga as ga\n",
    "\n",
    "##There were a few issues when setting this up for Python 3.5 please feel free to ask anything questions with the setup"
   ]
  },
  {
   "cell_type": "raw",
   "metadata": {},
   "source": [
    "Now that we have imported the necessary  modules for this example. We will start using Pandas to read Google Analytics data."
   ]
  },
  {
   "cell_type": "code",
   "execution_count": 7,
   "metadata": {
    "collapsed": true
   },
   "outputs": [],
   "source": [
    "current_week = ga.read_ga(\n",
    "    account_id  = \"56068633\",\n",
    "    profile_id  = \"106536610\",\n",
    "    property_id = \"UA-56068633-2\",\n",
    "    metrics     = ['users', 'pageviews',\"newUsers\",\"bounceRate\",\"sessions\",\"bounces\",\"hits\",\"goalCompletionsAll\"],\n",
    "    dimensions  = ['userType'],\n",
    "    start_date  = \"2016-11-13\",\n",
    "    end_date    = \"2016-11-19\",\n",
    "    index_col   = 0,\n",
    "    filters     = \"pagePath=~/\",\n",
    ")\n",
    "\n",
    "#The following is required \"metrics\", \"dimensions\" and \"start_date\". \n",
    "#Though it is best to specificy which account and view you wish to access"
   ]
  },
  {
   "cell_type": "code",
   "execution_count": 8,
   "metadata": {
    "collapsed": false
   },
   "outputs": [
    {
     "data": {
      "text/html": [
       "<div>\n",
       "<table border=\"1\" class=\"dataframe\">\n",
       "  <thead>\n",
       "    <tr style=\"text-align: right;\">\n",
       "      <th></th>\n",
       "      <th>users</th>\n",
       "      <th>pageviews</th>\n",
       "      <th>newUsers</th>\n",
       "      <th>bounceRate</th>\n",
       "      <th>sessions</th>\n",
       "      <th>bounces</th>\n",
       "      <th>hits</th>\n",
       "      <th>goalCompletionsAll</th>\n",
       "    </tr>\n",
       "    <tr>\n",
       "      <th>userType</th>\n",
       "      <th></th>\n",
       "      <th></th>\n",
       "      <th></th>\n",
       "      <th></th>\n",
       "      <th></th>\n",
       "      <th></th>\n",
       "      <th></th>\n",
       "      <th></th>\n",
       "    </tr>\n",
       "  </thead>\n",
       "  <tbody>\n",
       "    <tr>\n",
       "      <th>New Visitor</th>\n",
       "      <td>6</td>\n",
       "      <td>8</td>\n",
       "      <td>6</td>\n",
       "      <td>50.0</td>\n",
       "      <td>6</td>\n",
       "      <td>3</td>\n",
       "      <td>9</td>\n",
       "      <td>2</td>\n",
       "    </tr>\n",
       "  </tbody>\n",
       "</table>\n",
       "</div>"
      ],
      "text/plain": [
       "             users  pageviews  newUsers  bounceRate  sessions  bounces  hits  \\\n",
       "userType                                                                       \n",
       "New Visitor      6          8         6        50.0         6        3     9   \n",
       "\n",
       "             goalCompletionsAll  \n",
       "userType                         \n",
       "New Visitor                   2  "
      ]
     },
     "execution_count": 8,
     "metadata": {},
     "output_type": "execute_result"
    }
   ],
   "source": [
    "## Now we run a variable current_week to see how the data is presented\n",
    "## This variable shows us the current week(at the time) and returns the above metrics and dimensions\n",
    "current_week"
   ]
  },
  {
   "cell_type": "code",
   "execution_count": 9,
   "metadata": {
    "collapsed": true
   },
   "outputs": [],
   "source": [
    "# Now we create a variable for the previous week with the same metrics\n",
    "previous_week = ga.read_ga(\n",
    "    account_id  = \"56068633\",\n",
    "    profile_id  = \"106536610\",\n",
    "    property_id = \"UA-56068633-2\",\n",
    "    metrics     = ['users', 'pageviews',\"newUsers\",\"bounceRate\",\"sessions\",\"bounces\",\"hits\",\"goalCompletionsAll\"],\n",
    "    dimensions  = ['userType'],\n",
    "    start_date  = \"2016-11-06\",\n",
    "    end_date    = \"2016-11-12\",\n",
    "    index_col   = 0,\n",
    ")"
   ]
  },
  {
   "cell_type": "code",
   "execution_count": 10,
   "metadata": {
    "collapsed": false
   },
   "outputs": [
    {
     "data": {
      "text/html": [
       "<div>\n",
       "<table border=\"1\" class=\"dataframe\">\n",
       "  <thead>\n",
       "    <tr style=\"text-align: right;\">\n",
       "      <th></th>\n",
       "      <th>users</th>\n",
       "      <th>pageviews</th>\n",
       "      <th>newUsers</th>\n",
       "      <th>bounceRate</th>\n",
       "      <th>sessions</th>\n",
       "      <th>bounces</th>\n",
       "      <th>hits</th>\n",
       "      <th>goalCompletionsAll</th>\n",
       "    </tr>\n",
       "    <tr>\n",
       "      <th>userType</th>\n",
       "      <th></th>\n",
       "      <th></th>\n",
       "      <th></th>\n",
       "      <th></th>\n",
       "      <th></th>\n",
       "      <th></th>\n",
       "      <th></th>\n",
       "      <th></th>\n",
       "    </tr>\n",
       "  </thead>\n",
       "  <tbody>\n",
       "    <tr>\n",
       "      <th>New Visitor</th>\n",
       "      <td>3</td>\n",
       "      <td>3</td>\n",
       "      <td>3</td>\n",
       "      <td>100.0</td>\n",
       "      <td>3</td>\n",
       "      <td>3</td>\n",
       "      <td>3</td>\n",
       "      <td>0</td>\n",
       "    </tr>\n",
       "  </tbody>\n",
       "</table>\n",
       "</div>"
      ],
      "text/plain": [
       "             users  pageviews  newUsers  bounceRate  sessions  bounces  hits  \\\n",
       "userType                                                                       \n",
       "New Visitor      3          3         3       100.0         3        3     3   \n",
       "\n",
       "             goalCompletionsAll  \n",
       "userType                         \n",
       "New Visitor                   0  "
      ]
     },
     "execution_count": 10,
     "metadata": {},
     "output_type": "execute_result"
    }
   ],
   "source": [
    "previous_week"
   ]
  },
  {
   "cell_type": "raw",
   "metadata": {},
   "source": [
    "Now that we have both weeks showing the same metrics and dimensions. We want to run a check to see how big the percentage difference is between the current week and the previous week.\n",
    "\n",
    "We will take each week and create a dataFrame for each and then we will show them so they are presented in one table."
   ]
  },
  {
   "cell_type": "code",
   "execution_count": 11,
   "metadata": {
    "collapsed": true
   },
   "outputs": [],
   "source": [
    "current_df = pd.DataFrame(current_week)\n",
    "previous_df = pd.DataFrame(previous_week)\n",
    "\n",
    "frames = [current_df,previous_df]\n",
    "\n",
    "result = pd.concat(frames)"
   ]
  },
  {
   "cell_type": "code",
   "execution_count": 12,
   "metadata": {
    "collapsed": false
   },
   "outputs": [
    {
     "data": {
      "text/html": [
       "<div>\n",
       "<table border=\"1\" class=\"dataframe\">\n",
       "  <thead>\n",
       "    <tr style=\"text-align: right;\">\n",
       "      <th></th>\n",
       "      <th>users</th>\n",
       "      <th>pageviews</th>\n",
       "      <th>newUsers</th>\n",
       "      <th>bounceRate</th>\n",
       "      <th>sessions</th>\n",
       "      <th>bounces</th>\n",
       "      <th>hits</th>\n",
       "      <th>goalCompletionsAll</th>\n",
       "    </tr>\n",
       "    <tr>\n",
       "      <th>userType</th>\n",
       "      <th></th>\n",
       "      <th></th>\n",
       "      <th></th>\n",
       "      <th></th>\n",
       "      <th></th>\n",
       "      <th></th>\n",
       "      <th></th>\n",
       "      <th></th>\n",
       "    </tr>\n",
       "  </thead>\n",
       "  <tbody>\n",
       "    <tr>\n",
       "      <th>New Visitor</th>\n",
       "      <td>6</td>\n",
       "      <td>8</td>\n",
       "      <td>6</td>\n",
       "      <td>50.0</td>\n",
       "      <td>6</td>\n",
       "      <td>3</td>\n",
       "      <td>9</td>\n",
       "      <td>2</td>\n",
       "    </tr>\n",
       "    <tr>\n",
       "      <th>New Visitor</th>\n",
       "      <td>3</td>\n",
       "      <td>3</td>\n",
       "      <td>3</td>\n",
       "      <td>100.0</td>\n",
       "      <td>3</td>\n",
       "      <td>3</td>\n",
       "      <td>3</td>\n",
       "      <td>0</td>\n",
       "    </tr>\n",
       "  </tbody>\n",
       "</table>\n",
       "</div>"
      ],
      "text/plain": [
       "             users  pageviews  newUsers  bounceRate  sessions  bounces  hits  \\\n",
       "userType                                                                       \n",
       "New Visitor      6          8         6        50.0         6        3     9   \n",
       "New Visitor      3          3         3       100.0         3        3     3   \n",
       "\n",
       "             goalCompletionsAll  \n",
       "userType                         \n",
       "New Visitor                   2  \n",
       "New Visitor                   0  "
      ]
     },
     "execution_count": 12,
     "metadata": {},
     "output_type": "execute_result"
    }
   ],
   "source": [
    "##Check our result\n",
    "result"
   ]
  },
  {
   "cell_type": "raw",
   "metadata": {},
   "source": [
    "This table joins both tables into one. This makes it easier to compare the data across both tables. One issue you may notice is that we do not know which table respond to which row. This is a issue fix with pandas as we can very easily add a column that shows which rows correponds to which week"
   ]
  },
  {
   "cell_type": "code",
   "execution_count": 13,
   "metadata": {
    "collapsed": true
   },
   "outputs": [],
   "source": [
    "#Using pandas we will create a new column called \"Week\" and insert before the \"users\" column which week corresponds \n",
    "#to which row\n",
    "result.insert(0,\"Week\",[\"current_week\",\"previous_week\"],allow_duplicates=False)"
   ]
  },
  {
   "cell_type": "code",
   "execution_count": 14,
   "metadata": {
    "collapsed": false
   },
   "outputs": [
    {
     "data": {
      "text/html": [
       "<div>\n",
       "<table border=\"1\" class=\"dataframe\">\n",
       "  <thead>\n",
       "    <tr style=\"text-align: right;\">\n",
       "      <th></th>\n",
       "      <th>Week</th>\n",
       "      <th>users</th>\n",
       "      <th>pageviews</th>\n",
       "      <th>newUsers</th>\n",
       "      <th>bounceRate</th>\n",
       "      <th>sessions</th>\n",
       "      <th>bounces</th>\n",
       "      <th>hits</th>\n",
       "      <th>goalCompletionsAll</th>\n",
       "    </tr>\n",
       "    <tr>\n",
       "      <th>userType</th>\n",
       "      <th></th>\n",
       "      <th></th>\n",
       "      <th></th>\n",
       "      <th></th>\n",
       "      <th></th>\n",
       "      <th></th>\n",
       "      <th></th>\n",
       "      <th></th>\n",
       "      <th></th>\n",
       "    </tr>\n",
       "  </thead>\n",
       "  <tbody>\n",
       "    <tr>\n",
       "      <th>New Visitor</th>\n",
       "      <td>current_week</td>\n",
       "      <td>6</td>\n",
       "      <td>8</td>\n",
       "      <td>6</td>\n",
       "      <td>50.0</td>\n",
       "      <td>6</td>\n",
       "      <td>3</td>\n",
       "      <td>9</td>\n",
       "      <td>2</td>\n",
       "    </tr>\n",
       "    <tr>\n",
       "      <th>New Visitor</th>\n",
       "      <td>previous_week</td>\n",
       "      <td>3</td>\n",
       "      <td>3</td>\n",
       "      <td>3</td>\n",
       "      <td>100.0</td>\n",
       "      <td>3</td>\n",
       "      <td>3</td>\n",
       "      <td>3</td>\n",
       "      <td>0</td>\n",
       "    </tr>\n",
       "  </tbody>\n",
       "</table>\n",
       "</div>"
      ],
      "text/plain": [
       "                      Week  users  pageviews  newUsers  bounceRate  sessions  \\\n",
       "userType                                                                       \n",
       "New Visitor   current_week      6          8         6        50.0         6   \n",
       "New Visitor  previous_week      3          3         3       100.0         3   \n",
       "\n",
       "             bounces  hits  goalCompletionsAll  \n",
       "userType                                        \n",
       "New Visitor        3     9                   2  \n",
       "New Visitor        3     3                   0  "
      ]
     },
     "execution_count": 14,
     "metadata": {},
     "output_type": "execute_result"
    }
   ],
   "source": [
    "result"
   ]
  },
  {
   "cell_type": "raw",
   "metadata": {},
   "source": [
    "Now that we can combine both tables into one dataFrame. We can easily calculate the percentage difference between each week."
   ]
  },
  {
   "cell_type": "code",
   "execution_count": 15,
   "metadata": {
    "collapsed": true
   },
   "outputs": [],
   "source": [
    "#We create a variable called pct_diff that will contain the value\n",
    "pct_diff = result.set_index(\"Week\").pct_change(periods=1)"
   ]
  },
  {
   "cell_type": "code",
   "execution_count": 16,
   "metadata": {
    "collapsed": false
   },
   "outputs": [
    {
     "data": {
      "text/html": [
       "<div>\n",
       "<table border=\"1\" class=\"dataframe\">\n",
       "  <thead>\n",
       "    <tr style=\"text-align: right;\">\n",
       "      <th></th>\n",
       "      <th>users</th>\n",
       "      <th>pageviews</th>\n",
       "      <th>newUsers</th>\n",
       "      <th>bounceRate</th>\n",
       "      <th>sessions</th>\n",
       "      <th>bounces</th>\n",
       "      <th>hits</th>\n",
       "      <th>goalCompletionsAll</th>\n",
       "    </tr>\n",
       "    <tr>\n",
       "      <th>Week</th>\n",
       "      <th></th>\n",
       "      <th></th>\n",
       "      <th></th>\n",
       "      <th></th>\n",
       "      <th></th>\n",
       "      <th></th>\n",
       "      <th></th>\n",
       "      <th></th>\n",
       "    </tr>\n",
       "  </thead>\n",
       "  <tbody>\n",
       "    <tr>\n",
       "      <th>current_week</th>\n",
       "      <td>NaN</td>\n",
       "      <td>NaN</td>\n",
       "      <td>NaN</td>\n",
       "      <td>NaN</td>\n",
       "      <td>NaN</td>\n",
       "      <td>NaN</td>\n",
       "      <td>NaN</td>\n",
       "      <td>NaN</td>\n",
       "    </tr>\n",
       "    <tr>\n",
       "      <th>previous_week</th>\n",
       "      <td>-0.5</td>\n",
       "      <td>-0.625</td>\n",
       "      <td>-0.5</td>\n",
       "      <td>1.0</td>\n",
       "      <td>-0.5</td>\n",
       "      <td>0.0</td>\n",
       "      <td>-0.666667</td>\n",
       "      <td>-1.0</td>\n",
       "    </tr>\n",
       "  </tbody>\n",
       "</table>\n",
       "</div>"
      ],
      "text/plain": [
       "               users  pageviews  newUsers  bounceRate  sessions  bounces  \\\n",
       "Week                                                                       \n",
       "current_week     NaN        NaN       NaN         NaN       NaN      NaN   \n",
       "previous_week   -0.5     -0.625      -0.5         1.0      -0.5      0.0   \n",
       "\n",
       "                   hits  goalCompletionsAll  \n",
       "Week                                         \n",
       "current_week        NaN                 NaN  \n",
       "previous_week -0.666667                -1.0  "
      ]
     },
     "execution_count": 16,
     "metadata": {},
     "output_type": "execute_result"
    }
   ],
   "source": [
    "pct_diff"
   ]
  },
  {
   "cell_type": "raw",
   "metadata": {},
   "source": [
    "Here is the percentage difference taking a look at the previous week and the current week. We can see that the bounce rate increased by 100%. It will be easier to plot this with bar chart. Pandas has a built in library that can show this information."
   ]
  },
  {
   "cell_type": "code",
   "execution_count": 17,
   "metadata": {
    "collapsed": false
   },
   "outputs": [
    {
     "data": {
      "text/plain": [
       "<matplotlib.axes._subplots.AxesSubplot at 0x10b5a2b00>"
      ]
     },
     "execution_count": 17,
     "metadata": {},
     "output_type": "execute_result"
    },
    {
     "data": {
      "image/png": "[encoded data removed]",
      "text/plain": [
       "<matplotlib.figure.Figure at 0x10b62fe10>"
      ]
     },
     "metadata": {},
     "output_type": "display_data"
    }
   ],
   "source": [
    "pct_diff.iloc[1].plot(kind=\"bar\",figsize=(10,10))"
   ]
  },
  {
   "cell_type": "raw",
   "metadata": {},
   "source": [
    "Here we have a simple bar chart that shows all our metrics and their percentage difference in a much easier to read format. The same can be done using Python's Seaborn library. "
   ]
  },
  {
   "cell_type": "code",
   "execution_count": 26,
   "metadata": {
    "collapsed": false
   },
   "outputs": [
    {
     "data": {
      "text/plain": [
       "<seaborn.axisgrid.FacetGrid at 0x10cb616a0>"
      ]
     },
     "execution_count": 26,
     "metadata": {},
     "output_type": "execute_result"
    },
    {
     "data": {
      "image/png": "[encoded data removed]",
      "text/plain": [
       "<matplotlib.figure.Figure at 0x10cb610b8>"
      ]
     },
     "metadata": {},
     "output_type": "display_data"
    }
   ],
   "source": [
    "#Using Seaborn to plot the size of the chart\n",
    "sns.factorplot(data=pct_diff,kind=\"bar\",size=10)"
   ]
  },
  {
   "cell_type": "raw",
   "metadata": {},
   "source": [
    "Both libraries can plot simple graphs but Seaborn has a lot more features to make the graphs more interactive. \n",
    "This piece of analysis helped us determine the percentage difference between as many metrics and dimensions we want to see and noticed their difference. "
   ]
  },
  {
   "cell_type": "raw",
   "metadata": {},
   "source": [
    "Another way to use Pandas and Seaborn is take a further look at the which trafic sources lead to the most goal conversion and see what other variables effect conversion"
   ]
  },
  {
   "cell_type": "code",
   "execution_count": 33,
   "metadata": {
    "collapsed": true
   },
   "outputs": [],
   "source": [
    "##create a table with information with traffic sources\n",
    "traffic_sources_data = ga.read_ga(\n",
    "    account_id  = \"56068633\",\n",
    "    profile_id  = \"106536610\",\n",
    "    property_id = \"UA-56068633-2\",\n",
    "    metrics     = ['pageviewsPerSession','avgTimeOnPage','goalCompletionsAll'],\n",
    "    dimensions  = ['sourceMedium'],\n",
    "    start_date  = \"2016-09-01\",\n",
    "    end_date    = \"2016-11-19\",\n",
    "    index_col   = 0,\n",
    ")"
   ]
  },
  {
   "cell_type": "code",
   "execution_count": 34,
   "metadata": {
    "collapsed": false
   },
   "outputs": [
    {
     "data": {
      "text/html": [
       "<div>\n",
       "<table border=\"1\" class=\"dataframe\">\n",
       "  <thead>\n",
       "    <tr style=\"text-align: right;\">\n",
       "      <th></th>\n",
       "      <th>pageviewsPerSession</th>\n",
       "      <th>avgTimeOnPage</th>\n",
       "      <th>goalCompletionsAll</th>\n",
       "    </tr>\n",
       "    <tr>\n",
       "      <th>sourceMedium</th>\n",
       "      <th></th>\n",
       "      <th></th>\n",
       "      <th></th>\n",
       "    </tr>\n",
       "  </thead>\n",
       "  <tbody>\n",
       "    <tr>\n",
       "      <th>(direct) / (none)</th>\n",
       "      <td>1.000000</td>\n",
       "      <td>0.000000</td>\n",
       "      <td>0</td>\n",
       "    </tr>\n",
       "    <tr>\n",
       "      <th>google / organic</th>\n",
       "      <td>1.250000</td>\n",
       "      <td>59.333333</td>\n",
       "      <td>0</td>\n",
       "    </tr>\n",
       "    <tr>\n",
       "      <th>robpercival.co.uk / referral</th>\n",
       "      <td>1.235294</td>\n",
       "      <td>235.583333</td>\n",
       "      <td>4</td>\n",
       "    </tr>\n",
       "    <tr>\n",
       "      <th>testFrancisco / testFrancisco</th>\n",
       "      <td>3.222222</td>\n",
       "      <td>262.600000</td>\n",
       "      <td>0</td>\n",
       "    </tr>\n",
       "    <tr>\n",
       "      <th>timer4web.com / referral</th>\n",
       "      <td>1.000000</td>\n",
       "      <td>0.000000</td>\n",
       "      <td>0</td>\n",
       "    </tr>\n",
       "  </tbody>\n",
       "</table>\n",
       "</div>"
      ],
      "text/plain": [
       "                               pageviewsPerSession  avgTimeOnPage  \\\n",
       "sourceMedium                                                        \n",
       "(direct) / (none)                         1.000000       0.000000   \n",
       "google / organic                          1.250000      59.333333   \n",
       "robpercival.co.uk / referral              1.235294     235.583333   \n",
       "testFrancisco / testFrancisco             3.222222     262.600000   \n",
       "timer4web.com / referral                  1.000000       0.000000   \n",
       "\n",
       "                               goalCompletionsAll  \n",
       "sourceMedium                                       \n",
       "(direct) / (none)                               0  \n",
       "google / organic                                0  \n",
       "robpercival.co.uk / referral                    4  \n",
       "testFrancisco / testFrancisco                   0  \n",
       "timer4web.com / referral                        0  "
      ]
     },
     "execution_count": 34,
     "metadata": {},
     "output_type": "execute_result"
    }
   ],
   "source": [
    "traffic_sources_data"
   ]
  },
  {
   "cell_type": "raw",
   "metadata": {},
   "source": [
    "Looking at this data we can see that all of the goals completed came from our traffic source \"robpercivial.co.uk\"\n",
    "We can drill further into this and see the relationship between this traffic source and goal completion. One interesting thing is to see if time on site effections the goal completion. "
   ]
  },
  {
   "cell_type": "code",
   "execution_count": 39,
   "metadata": {
    "collapsed": false
   },
   "outputs": [],
   "source": [
    "## we are going to create a new table with a filter to show only this specific data source\n",
    "rob_traffic_data = ga.read_ga(\n",
    "    account_id  = \"56068633\",\n",
    "    profile_id  = \"106536610\",\n",
    "    property_id = \"UA-56068633-2\",\n",
    "    metrics     = ['pageviewsPerSession','avgTimeOnPage','goalCompletionsAll'],\n",
    "    dimensions  = ['sourceMedium'],\n",
    "    start_date  = \"2016-09-01\",\n",
    "    end_date    = \"2016-11-19\",\n",
    "    filters     = \"sourceMedium==robpercival.co.uk / referral\",\n",
    "    index_col   = 0,\n",
    ")"
   ]
  },
  {
   "cell_type": "code",
   "execution_count": 40,
   "metadata": {
    "collapsed": false
   },
   "outputs": [
    {
     "data": {
      "text/html": [
       "<div>\n",
       "<table border=\"1\" class=\"dataframe\">\n",
       "  <thead>\n",
       "    <tr style=\"text-align: right;\">\n",
       "      <th></th>\n",
       "      <th>pageviewsPerSession</th>\n",
       "      <th>avgTimeOnPage</th>\n",
       "      <th>goalCompletionsAll</th>\n",
       "    </tr>\n",
       "    <tr>\n",
       "      <th>sourceMedium</th>\n",
       "      <th></th>\n",
       "      <th></th>\n",
       "      <th></th>\n",
       "    </tr>\n",
       "  </thead>\n",
       "  <tbody>\n",
       "    <tr>\n",
       "      <th>robpercival.co.uk / referral</th>\n",
       "      <td>1.235294</td>\n",
       "      <td>235.583333</td>\n",
       "      <td>4</td>\n",
       "    </tr>\n",
       "  </tbody>\n",
       "</table>\n",
       "</div>"
      ],
      "text/plain": [
       "                              pageviewsPerSession  avgTimeOnPage  \\\n",
       "sourceMedium                                                       \n",
       "robpercival.co.uk / referral             1.235294     235.583333   \n",
       "\n",
       "                              goalCompletionsAll  \n",
       "sourceMedium                                      \n",
       "robpercival.co.uk / referral                   4  "
      ]
     },
     "execution_count": 40,
     "metadata": {},
     "output_type": "execute_result"
    }
   ],
   "source": [
    "rob_traffic_data"
   ]
  },
  {
   "cell_type": "code",
   "execution_count": 45,
   "metadata": {
    "collapsed": false
   },
   "outputs": [],
   "source": [
    "rob_df = pd.DataFrame(rob_traffic_data)"
   ]
  },
  {
   "cell_type": "code",
   "execution_count": 48,
   "metadata": {
    "collapsed": false
   },
   "outputs": [],
   "source": [
    "rob_df[\"avgTimeInMinutes\"] = rob_df[\"avgTimeOnPage\"] / 60"
   ]
  },
  {
   "cell_type": "code",
   "execution_count": 49,
   "metadata": {
    "collapsed": false
   },
   "outputs": [
    {
     "data": {
      "text/html": [
       "<div>\n",
       "<table border=\"1\" class=\"dataframe\">\n",
       "  <thead>\n",
       "    <tr style=\"text-align: right;\">\n",
       "      <th></th>\n",
       "      <th>pageviewsPerSession</th>\n",
       "      <th>avgTimeOnPage</th>\n",
       "      <th>goalCompletionsAll</th>\n",
       "      <th>avgTimeInMinutes</th>\n",
       "    </tr>\n",
       "    <tr>\n",
       "      <th>sourceMedium</th>\n",
       "      <th></th>\n",
       "      <th></th>\n",
       "      <th></th>\n",
       "      <th></th>\n",
       "    </tr>\n",
       "  </thead>\n",
       "  <tbody>\n",
       "    <tr>\n",
       "      <th>robpercival.co.uk / referral</th>\n",
       "      <td>1.235294</td>\n",
       "      <td>235.583333</td>\n",
       "      <td>4</td>\n",
       "      <td>3.926389</td>\n",
       "    </tr>\n",
       "  </tbody>\n",
       "</table>\n",
       "</div>"
      ],
      "text/plain": [
       "                              pageviewsPerSession  avgTimeOnPage  \\\n",
       "sourceMedium                                                       \n",
       "robpercival.co.uk / referral             1.235294     235.583333   \n",
       "\n",
       "                              goalCompletionsAll  avgTimeInMinutes  \n",
       "sourceMedium                                                        \n",
       "robpercival.co.uk / referral                   4          3.926389  "
      ]
     },
     "execution_count": 49,
     "metadata": {},
     "output_type": "execute_result"
    }
   ],
   "source": [
    "rob_df"
   ]
  },
  {
   "cell_type": "code",
   "execution_count": null,
   "metadata": {
    "collapsed": true
   },
   "outputs": [],
   "source": []
  }
 ],
 "metadata": {
  "kernelspec": {
   "display_name": "Python 3",
   "language": "python",
   "name": "python3"
  },
  "language_info": {
   "codemirror_mode": {
    "name": "ipython",
    "version": 3
   },
   "file_extension": ".py",
   "mimetype": "text/x-python",
   "name": "python",
   "nbconvert_exporter": "python",
   "pygments_lexer": "ipython3",
   "version": "3.5.1"
  }
 },
 "nbformat": 4,
 "nbformat_minor": 0
}
