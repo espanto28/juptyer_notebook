{
 "cells": [
  {
   "cell_type": "raw",
   "metadata": {},
   "source": [
    "One of the benefits of using is Big Query is that you can incorporate Python and it's libraries to perform analysis and visualizations on the Big Query results. The combination of these two tools can help with analysis of large datsets by using Big Query to get the data and Python to run the analysis. \n",
    "    \n",
    "Because I am a former baseball player and it is a free dataset that anyone can use I will illustrate an example of using Big Query and Python by using the Major League Baseball's dataset located here:\n",
    "\n",
    "https://cloud.google.com/bigquery/public-data/baseball\n",
    "\n",
    "In this post we will be using Python's Pandas library and Seaborn to perform some analysis and visuzalition. You will also need to create a project in Google's Cloud platform and enable the Big Query API. This is all that is required from the Big Query. \n",
    "\n",
    "Python's Pandas library has a module called \"gbq.read_gbq\" this module allows us to run a query using Big Query. "
   ]
  },
  {
   "cell_type": "code",
   "execution_count": 3,
   "metadata": {
    "collapsed": true
   },
   "outputs": [],
   "source": [
    "#imports the necessary libraries\n",
    "import pandas\n",
    "import numpy\n",
    "import seaborn as sns\n",
    "import matplotlib\n",
    "import matplotlib.pyplot as plt\n",
    "%matplotlib inline"
   ]
  },
  {
   "cell_type": "raw",
   "metadata": {},
   "source": [
    "First we store our query in a variable. This way we do not always have to rewrite the query. Below we will store the query in a variable called first_baseball_query.  This query will use the 2016 Major League Baseball post season data. It will get the pitch type and speed from pitches hit with a line drive. "
   ]
  },
  {
   "cell_type": "code",
   "execution_count": 1,
   "metadata": {
    "collapsed": true
   },
   "outputs": [],
   "source": [
    "first_baseball_query = \"\"\"\n",
    "SELECT\n",
    "  pitchType,\n",
    "  pitchTypeDescription,\n",
    "  pitchSpeed,\n",
    "  pitcherPitchCount,\n",
    "  hitType\n",
    "FROM (\n",
    "  SELECT\n",
    "    pitchType,\n",
    "    pitchTypeDescription,\n",
    "    pitchSpeed,\n",
    "    pitcherPitchCount,\n",
    "    hitterPitchCount,\n",
    "    venueOutfieldDistances,\n",
    "    hitType\n",
    "  FROM\n",
    "    [bigquery-public-data:baseball.games_post_wide]\n",
    "  WHERE\n",
    "    atBatEventType = 'PITCH'\n",
    "    AND hitType != '')\n",
    "WHERE\n",
    "  hitType='LD'\n",
    "\"\"\""
   ]
  },
  {
   "cell_type": "code",
   "execution_count": 4,
   "metadata": {
    "collapsed": false
   },
   "outputs": [
    {
     "name": "stdout",
     "output_type": "stream",
     "text": [
      "Requesting query... ok.\n",
      "Query running...\n",
      "Query done.\n",
      "Processed: 322.0 kb\n",
      "\n",
      "Retrieving results...\n",
      "Got 343 rows.\n",
      "\n",
      "Total time taken 1.87 s.\n",
      "Finished at 2016-12-04 15:09:32.\n"
     ]
    }
   ],
   "source": [
    "## Now that our query is saved we will run it the pandas gbq.read module. We also need to add our project ID.\n",
    "line_drive_dataPost = pandas.io.gbq.read_gbq(first_baseball_query,project_id=\"bigquerytest-1470224165876\",verbose=True)"
   ]
  },
  {
   "cell_type": "raw",
   "metadata": {},
   "source": [
    "The above is the results from our query that was runned with Panda's gbq module and used Big Query to process the query. This means we are using Google's machines to run queries on large datasets. Now we will use Pandas to take a look out our data and determine some information from it. "
   ]
  },
  {
   "cell_type": "code",
   "execution_count": 6,
   "metadata": {
    "collapsed": false
   },
   "outputs": [
    {
     "data": {
      "text/html": [
       "<div>\n",
       "<table border=\"1\" class=\"dataframe\">\n",
       "  <thead>\n",
       "    <tr style=\"text-align: right;\">\n",
       "      <th></th>\n",
       "      <th>pitchType</th>\n",
       "      <th>pitchTypeDescription</th>\n",
       "      <th>pitchSpeed</th>\n",
       "      <th>pitcherPitchCount</th>\n",
       "      <th>hitType</th>\n",
       "    </tr>\n",
       "  </thead>\n",
       "  <tbody>\n",
       "    <tr>\n",
       "      <th>0</th>\n",
       "      <td>FA</td>\n",
       "      <td>Fastball</td>\n",
       "      <td>94</td>\n",
       "      <td>10</td>\n",
       "      <td>LD</td>\n",
       "    </tr>\n",
       "    <tr>\n",
       "      <th>1</th>\n",
       "      <td>CH</td>\n",
       "      <td>Changeup</td>\n",
       "      <td>89</td>\n",
       "      <td>15</td>\n",
       "      <td>LD</td>\n",
       "    </tr>\n",
       "    <tr>\n",
       "      <th>2</th>\n",
       "      <td>FA</td>\n",
       "      <td>Fastball</td>\n",
       "      <td>98</td>\n",
       "      <td>10</td>\n",
       "      <td>LD</td>\n",
       "    </tr>\n",
       "    <tr>\n",
       "      <th>3</th>\n",
       "      <td>FA</td>\n",
       "      <td>Fastball</td>\n",
       "      <td>97</td>\n",
       "      <td>28</td>\n",
       "      <td>LD</td>\n",
       "    </tr>\n",
       "    <tr>\n",
       "      <th>4</th>\n",
       "      <td>FA</td>\n",
       "      <td>Fastball</td>\n",
       "      <td>98</td>\n",
       "      <td>22</td>\n",
       "      <td>LD</td>\n",
       "    </tr>\n",
       "  </tbody>\n",
       "</table>\n",
       "</div>"
      ],
      "text/plain": [
       "  pitchType pitchTypeDescription  pitchSpeed  pitcherPitchCount hitType\n",
       "0        FA             Fastball          94                 10      LD\n",
       "1        CH             Changeup          89                 15      LD\n",
       "2        FA             Fastball          98                 10      LD\n",
       "3        FA             Fastball          97                 28      LD\n",
       "4        FA             Fastball          98                 22      LD"
      ]
     },
     "execution_count": 6,
     "metadata": {},
     "output_type": "execute_result"
    }
   ],
   "source": [
    "#Here we will run the function head() to determine how the first 5 rows of data looks \n",
    "line_drive_dataPost.head()"
   ]
  },
  {
   "cell_type": "raw",
   "metadata": {},
   "source": [
    "The above table is just quick view of our data. As you can see we are getting pitch type, pitchType description, pitch spped and pitch count and hit type. Now that we can confirm our data is present in our table and our query worked. \n",
    "\n",
    "One thing we can do is get the count of which pitch type was the most common hit by post season baseball players. This can be done by running the code below. "
   ]
  },
  {
   "cell_type": "code",
   "execution_count": 7,
   "metadata": {
    "collapsed": false
   },
   "outputs": [
    {
     "data": {
      "text/plain": [
       "FA    163\n",
       "SL     61\n",
       "CU     41\n",
       "SI     29\n",
       "CH     24\n",
       "CT     24\n",
       "SP      1\n",
       "Name: pitchType, dtype: int64"
      ]
     },
     "execution_count": 7,
     "metadata": {},
     "output_type": "execute_result"
    }
   ],
   "source": [
    "#Here with Pandas we are picking a certain column in the table and getting the total count for that column\n",
    "line_drive_dataPost[\"pitchType\"].value_counts()"
   ]
  },
  {
   "cell_type": "raw",
   "metadata": {},
   "source": [
    "Now that we have the total count of each pitch type hit by a line drive we can actually put this in a bar chart using Pandas visualtion tools to plot the data. "
   ]
  },
  {
   "cell_type": "code",
   "execution_count": 8,
   "metadata": {
    "collapsed": false
   },
   "outputs": [],
   "source": [
    "#We will save this in a variable called pitch type\n",
    "pitch_type=line_drive_dataPost[\"pitchType\"].value_counts()"
   ]
  },
  {
   "cell_type": "code",
   "execution_count": 19,
   "metadata": {
    "collapsed": false
   },
   "outputs": [
    {
     "data": {
      "text/plain": [
       "<matplotlib.axes._subplots.AxesSubplot at 0x10c077518>"
      ]
     },
     "execution_count": 19,
     "metadata": {},
     "output_type": "execute_result"
    },
    {
     "data": {
      "image/png": "[encoded data removed]",
      "text/plain": [
       "<matplotlib.figure.Figure at 0x10c0f44a8>"
      ]
     },
     "metadata": {},
     "output_type": "display_data"
    }
   ],
   "source": [
    "#We run that variable on the .plot function to produce our barchart\n",
    "pitch_type.plot(kind=\"bar\")"
   ]
  },
  {
   "cell_type": "raw",
   "metadata": {},
   "source": [
    "As we can see in the table and graph above the most common type of pitch hit is the Fastball. This is not uncommon since fastballs are the most common pitch. Using Python we were able to run a quick analysis of the pitches hit by line drives and visualize that data. \n",
    "\n",
    "Using Big Query to get the data provides quick results that we can insert into a python variable that allows us to use Pandas to look further into the data. This illustrates how Python libraries Pandas and Seaborn can help us take a deeper dive into baseball data is by looking at the performance of a specific pitcher. \n",
    "\n",
    "In baseball there is the concept of the strike zone. The strike zone is area where if a pitch is thrown within it's dimensions it counts as a strike. The baseball rule is 3 strikes and you are out. It is widely accept that baseball strike zone has 14 areas as shown in this image: http://cdn0.vox-cdn.com/assets/4384443/Inning_1.png. \n",
    "\n",
    "Generally areas 1 - 9 count as a strike and the outer areas are known as balls outside the strike zone. One of my favorite pitcher Adrolois Chapman is known for having the fastest pitch in baseball at 105 mph. It would be interesting to see which area of the strike zone are his favorite and how fast he pitches when throwing in a specific area. \n",
    "\n",
    "For this we are going to run a query for the whole season to determine and only pull data on chapman. "
   ]
  },
  {
   "cell_type": "code",
   "execution_count": 26,
   "metadata": {
    "collapsed": true
   },
   "outputs": [],
   "source": [
    "## Baseball query with pitchZone, pitchSpeed and Count of pitch speed \n",
    "chapman_strikeZone_data =\"\"\"\n",
    "SELECT\n",
    "  pitchZone,\n",
    "  ROUND(AVG(pitchSpeed),2) AS avg_pitchSpeed,\n",
    "  COUNT(pitchSpeed) AS count\n",
    "FROM (\n",
    "  SELECT\n",
    "    pitchZone,\n",
    "    pitchSpeed,\n",
    "    pitchType\n",
    "  FROM (\n",
    "    SELECT\n",
    "      *\n",
    "    FROM (\n",
    "      SELECT\n",
    "        pitcherLastName,\n",
    "        pitcherFirstName,\n",
    "        pitchSpeed,\n",
    "        pitchZone,\n",
    "        pitcherPitchCount,\n",
    "        hitType,\n",
    "        balls,\n",
    "        strikes,\n",
    "        pitchType\n",
    "      FROM\n",
    "        [bigquery-public-data:baseball.games_wide] )\n",
    "    WHERE\n",
    "      pitcherLastName =\"Chapman\"\n",
    "    GROUP BY\n",
    "      1,\n",
    "      2,\n",
    "      3,\n",
    "      4,\n",
    "      5,\n",
    "      6,\n",
    "      7,\n",
    "      8,\n",
    "      9)\n",
    "  GROUP BY\n",
    "    1,\n",
    "    2,\n",
    "    3)\n",
    "WHERE pitchZone > 0\n",
    "GROUP BY\n",
    "  1\n",
    "ORDER BY\n",
    "  pitchZone ASC\n",
    "\"\"\""
   ]
  },
  {
   "cell_type": "code",
   "execution_count": 27,
   "metadata": {
    "collapsed": false
   },
   "outputs": [
    {
     "name": "stdout",
     "output_type": "stream",
     "text": [
      "Requesting query... ok.\n",
      "Query running...\n",
      "Query done.\n",
      "Cache hit.\n",
      "\n",
      "Retrieving results...\n",
      "Got 13 rows.\n",
      "\n",
      "Total time taken 1.69 s.\n",
      "Finished at 2016-12-04 15:59:17.\n"
     ]
    }
   ],
   "source": [
    "#Again we save our data to a variable\n",
    "chapman_pitch_data = pandas.io.gbq.read_gbq(chapman_strikeZone_data,project_id=\"bigquerytest-1470224165876\",verbose=True)"
   ]
  },
  {
   "cell_type": "code",
   "execution_count": 28,
   "metadata": {
    "collapsed": false
   },
   "outputs": [
    {
     "data": {
      "text/html": [
       "<div>\n",
       "<table border=\"1\" class=\"dataframe\">\n",
       "  <thead>\n",
       "    <tr style=\"text-align: right;\">\n",
       "      <th></th>\n",
       "      <th>pitchZone</th>\n",
       "      <th>avg_pitchSpeed</th>\n",
       "      <th>count</th>\n",
       "    </tr>\n",
       "  </thead>\n",
       "  <tbody>\n",
       "    <tr>\n",
       "      <th>0</th>\n",
       "      <td>1</td>\n",
       "      <td>91.95</td>\n",
       "      <td>21</td>\n",
       "    </tr>\n",
       "    <tr>\n",
       "      <th>1</th>\n",
       "      <td>2</td>\n",
       "      <td>93.88</td>\n",
       "      <td>16</td>\n",
       "    </tr>\n",
       "    <tr>\n",
       "      <th>2</th>\n",
       "      <td>3</td>\n",
       "      <td>93.71</td>\n",
       "      <td>14</td>\n",
       "    </tr>\n",
       "    <tr>\n",
       "      <th>3</th>\n",
       "      <td>4</td>\n",
       "      <td>89.89</td>\n",
       "      <td>27</td>\n",
       "    </tr>\n",
       "    <tr>\n",
       "      <th>4</th>\n",
       "      <td>5</td>\n",
       "      <td>90.04</td>\n",
       "      <td>23</td>\n",
       "    </tr>\n",
       "    <tr>\n",
       "      <th>5</th>\n",
       "      <td>6</td>\n",
       "      <td>91.40</td>\n",
       "      <td>25</td>\n",
       "    </tr>\n",
       "    <tr>\n",
       "      <th>6</th>\n",
       "      <td>7</td>\n",
       "      <td>92.88</td>\n",
       "      <td>17</td>\n",
       "    </tr>\n",
       "    <tr>\n",
       "      <th>7</th>\n",
       "      <td>8</td>\n",
       "      <td>90.73</td>\n",
       "      <td>22</td>\n",
       "    </tr>\n",
       "    <tr>\n",
       "      <th>8</th>\n",
       "      <td>9</td>\n",
       "      <td>91.17</td>\n",
       "      <td>23</td>\n",
       "    </tr>\n",
       "    <tr>\n",
       "      <th>9</th>\n",
       "      <td>10</td>\n",
       "      <td>86.95</td>\n",
       "      <td>21</td>\n",
       "    </tr>\n",
       "    <tr>\n",
       "      <th>10</th>\n",
       "      <td>11</td>\n",
       "      <td>92.37</td>\n",
       "      <td>27</td>\n",
       "    </tr>\n",
       "    <tr>\n",
       "      <th>11</th>\n",
       "      <td>12</td>\n",
       "      <td>88.79</td>\n",
       "      <td>33</td>\n",
       "    </tr>\n",
       "    <tr>\n",
       "      <th>12</th>\n",
       "      <td>13</td>\n",
       "      <td>90.81</td>\n",
       "      <td>32</td>\n",
       "    </tr>\n",
       "  </tbody>\n",
       "</table>\n",
       "</div>"
      ],
      "text/plain": [
       "    pitchZone  avg_pitchSpeed  count\n",
       "0           1           91.95     21\n",
       "1           2           93.88     16\n",
       "2           3           93.71     14\n",
       "3           4           89.89     27\n",
       "4           5           90.04     23\n",
       "5           6           91.40     25\n",
       "6           7           92.88     17\n",
       "7           8           90.73     22\n",
       "8           9           91.17     23\n",
       "9          10           86.95     21\n",
       "10         11           92.37     27\n",
       "11         12           88.79     33\n",
       "12         13           90.81     32"
      ]
     },
     "execution_count": 28,
     "metadata": {},
     "output_type": "execute_result"
    }
   ],
   "source": [
    "#We do a quick count of our data using the head() function and insert the parameter 15 to get 15 rows instead of 5\n",
    "chapman_pitch_data.head(15)"
   ]
  },
  {
   "cell_type": "raw",
   "metadata": {},
   "source": [
    "Above we have verified that our Big Query data is in a table. We will now want to build a heatmap showing the average pitch speed, strike zone and the total number of times that pitch was thrown in that zone. In order to do this we will use Pandas pivot function to actually pivot the data into a format that makes more sense to our heatmap. "
   ]
  },
  {
   "cell_type": "code",
   "execution_count": 29,
   "metadata": {
    "collapsed": false
   },
   "outputs": [],
   "source": [
    "chapman_pivot_data = chapman_pitch_data.pivot(\"pitchZone\",\"count\",\"avg_pitchSpeed\")"
   ]
  },
  {
   "cell_type": "code",
   "execution_count": 30,
   "metadata": {
    "collapsed": false
   },
   "outputs": [
    {
     "data": {
      "text/html": [
       "<div>\n",
       "<table border=\"1\" class=\"dataframe\">\n",
       "  <thead>\n",
       "    <tr style=\"text-align: right;\">\n",
       "      <th>count</th>\n",
       "      <th>14</th>\n",
       "      <th>16</th>\n",
       "      <th>17</th>\n",
       "      <th>21</th>\n",
       "      <th>22</th>\n",
       "      <th>23</th>\n",
       "      <th>25</th>\n",
       "      <th>27</th>\n",
       "      <th>32</th>\n",
       "      <th>33</th>\n",
       "    </tr>\n",
       "    <tr>\n",
       "      <th>pitchZone</th>\n",
       "      <th></th>\n",
       "      <th></th>\n",
       "      <th></th>\n",
       "      <th></th>\n",
       "      <th></th>\n",
       "      <th></th>\n",
       "      <th></th>\n",
       "      <th></th>\n",
       "      <th></th>\n",
       "      <th></th>\n",
       "    </tr>\n",
       "  </thead>\n",
       "  <tbody>\n",
       "    <tr>\n",
       "      <th>1</th>\n",
       "      <td>NaN</td>\n",
       "      <td>NaN</td>\n",
       "      <td>NaN</td>\n",
       "      <td>91.95</td>\n",
       "      <td>NaN</td>\n",
       "      <td>NaN</td>\n",
       "      <td>NaN</td>\n",
       "      <td>NaN</td>\n",
       "      <td>NaN</td>\n",
       "      <td>NaN</td>\n",
       "    </tr>\n",
       "    <tr>\n",
       "      <th>2</th>\n",
       "      <td>NaN</td>\n",
       "      <td>93.88</td>\n",
       "      <td>NaN</td>\n",
       "      <td>NaN</td>\n",
       "      <td>NaN</td>\n",
       "      <td>NaN</td>\n",
       "      <td>NaN</td>\n",
       "      <td>NaN</td>\n",
       "      <td>NaN</td>\n",
       "      <td>NaN</td>\n",
       "    </tr>\n",
       "    <tr>\n",
       "      <th>3</th>\n",
       "      <td>93.71</td>\n",
       "      <td>NaN</td>\n",
       "      <td>NaN</td>\n",
       "      <td>NaN</td>\n",
       "      <td>NaN</td>\n",
       "      <td>NaN</td>\n",
       "      <td>NaN</td>\n",
       "      <td>NaN</td>\n",
       "      <td>NaN</td>\n",
       "      <td>NaN</td>\n",
       "    </tr>\n",
       "    <tr>\n",
       "      <th>4</th>\n",
       "      <td>NaN</td>\n",
       "      <td>NaN</td>\n",
       "      <td>NaN</td>\n",
       "      <td>NaN</td>\n",
       "      <td>NaN</td>\n",
       "      <td>NaN</td>\n",
       "      <td>NaN</td>\n",
       "      <td>89.89</td>\n",
       "      <td>NaN</td>\n",
       "      <td>NaN</td>\n",
       "    </tr>\n",
       "    <tr>\n",
       "      <th>5</th>\n",
       "      <td>NaN</td>\n",
       "      <td>NaN</td>\n",
       "      <td>NaN</td>\n",
       "      <td>NaN</td>\n",
       "      <td>NaN</td>\n",
       "      <td>90.04</td>\n",
       "      <td>NaN</td>\n",
       "      <td>NaN</td>\n",
       "      <td>NaN</td>\n",
       "      <td>NaN</td>\n",
       "    </tr>\n",
       "    <tr>\n",
       "      <th>6</th>\n",
       "      <td>NaN</td>\n",
       "      <td>NaN</td>\n",
       "      <td>NaN</td>\n",
       "      <td>NaN</td>\n",
       "      <td>NaN</td>\n",
       "      <td>NaN</td>\n",
       "      <td>91.4</td>\n",
       "      <td>NaN</td>\n",
       "      <td>NaN</td>\n",
       "      <td>NaN</td>\n",
       "    </tr>\n",
       "    <tr>\n",
       "      <th>7</th>\n",
       "      <td>NaN</td>\n",
       "      <td>NaN</td>\n",
       "      <td>92.88</td>\n",
       "      <td>NaN</td>\n",
       "      <td>NaN</td>\n",
       "      <td>NaN</td>\n",
       "      <td>NaN</td>\n",
       "      <td>NaN</td>\n",
       "      <td>NaN</td>\n",
       "      <td>NaN</td>\n",
       "    </tr>\n",
       "    <tr>\n",
       "      <th>8</th>\n",
       "      <td>NaN</td>\n",
       "      <td>NaN</td>\n",
       "      <td>NaN</td>\n",
       "      <td>NaN</td>\n",
       "      <td>90.73</td>\n",
       "      <td>NaN</td>\n",
       "      <td>NaN</td>\n",
       "      <td>NaN</td>\n",
       "      <td>NaN</td>\n",
       "      <td>NaN</td>\n",
       "    </tr>\n",
       "    <tr>\n",
       "      <th>9</th>\n",
       "      <td>NaN</td>\n",
       "      <td>NaN</td>\n",
       "      <td>NaN</td>\n",
       "      <td>NaN</td>\n",
       "      <td>NaN</td>\n",
       "      <td>91.17</td>\n",
       "      <td>NaN</td>\n",
       "      <td>NaN</td>\n",
       "      <td>NaN</td>\n",
       "      <td>NaN</td>\n",
       "    </tr>\n",
       "    <tr>\n",
       "      <th>10</th>\n",
       "      <td>NaN</td>\n",
       "      <td>NaN</td>\n",
       "      <td>NaN</td>\n",
       "      <td>86.95</td>\n",
       "      <td>NaN</td>\n",
       "      <td>NaN</td>\n",
       "      <td>NaN</td>\n",
       "      <td>NaN</td>\n",
       "      <td>NaN</td>\n",
       "      <td>NaN</td>\n",
       "    </tr>\n",
       "    <tr>\n",
       "      <th>11</th>\n",
       "      <td>NaN</td>\n",
       "      <td>NaN</td>\n",
       "      <td>NaN</td>\n",
       "      <td>NaN</td>\n",
       "      <td>NaN</td>\n",
       "      <td>NaN</td>\n",
       "      <td>NaN</td>\n",
       "      <td>92.37</td>\n",
       "      <td>NaN</td>\n",
       "      <td>NaN</td>\n",
       "    </tr>\n",
       "    <tr>\n",
       "      <th>12</th>\n",
       "      <td>NaN</td>\n",
       "      <td>NaN</td>\n",
       "      <td>NaN</td>\n",
       "      <td>NaN</td>\n",
       "      <td>NaN</td>\n",
       "      <td>NaN</td>\n",
       "      <td>NaN</td>\n",
       "      <td>NaN</td>\n",
       "      <td>NaN</td>\n",
       "      <td>88.79</td>\n",
       "    </tr>\n",
       "    <tr>\n",
       "      <th>13</th>\n",
       "      <td>NaN</td>\n",
       "      <td>NaN</td>\n",
       "      <td>NaN</td>\n",
       "      <td>NaN</td>\n",
       "      <td>NaN</td>\n",
       "      <td>NaN</td>\n",
       "      <td>NaN</td>\n",
       "      <td>NaN</td>\n",
       "      <td>90.81</td>\n",
       "      <td>NaN</td>\n",
       "    </tr>\n",
       "  </tbody>\n",
       "</table>\n",
       "</div>"
      ],
      "text/plain": [
       "count         14     16     17     21     22     23    25     27     32     33\n",
       "pitchZone                                                                     \n",
       "1            NaN    NaN    NaN  91.95    NaN    NaN   NaN    NaN    NaN    NaN\n",
       "2            NaN  93.88    NaN    NaN    NaN    NaN   NaN    NaN    NaN    NaN\n",
       "3          93.71    NaN    NaN    NaN    NaN    NaN   NaN    NaN    NaN    NaN\n",
       "4            NaN    NaN    NaN    NaN    NaN    NaN   NaN  89.89    NaN    NaN\n",
       "5            NaN    NaN    NaN    NaN    NaN  90.04   NaN    NaN    NaN    NaN\n",
       "6            NaN    NaN    NaN    NaN    NaN    NaN  91.4    NaN    NaN    NaN\n",
       "7            NaN    NaN  92.88    NaN    NaN    NaN   NaN    NaN    NaN    NaN\n",
       "8            NaN    NaN    NaN    NaN  90.73    NaN   NaN    NaN    NaN    NaN\n",
       "9            NaN    NaN    NaN    NaN    NaN  91.17   NaN    NaN    NaN    NaN\n",
       "10           NaN    NaN    NaN  86.95    NaN    NaN   NaN    NaN    NaN    NaN\n",
       "11           NaN    NaN    NaN    NaN    NaN    NaN   NaN  92.37    NaN    NaN\n",
       "12           NaN    NaN    NaN    NaN    NaN    NaN   NaN    NaN    NaN  88.79\n",
       "13           NaN    NaN    NaN    NaN    NaN    NaN   NaN    NaN  90.81    NaN"
      ]
     },
     "execution_count": 30,
     "metadata": {},
     "output_type": "execute_result"
    }
   ],
   "source": [
    "#We take a look at our data to make sure everything is okay.\n",
    "#We will get some NA numbers because we are getting the avg pitchSpeed for that zone. \n",
    "chapman_pivot_data"
   ]
  },
  {
   "cell_type": "raw",
   "metadata": {},
   "source": [
    "Our table able shows us the number of times a pitch was thrown into that strike zone and the average pitch speed by Chapman. Now that the data is in a format we can use seaborn's heatmap function to plot this data. "
   ]
  },
  {
   "cell_type": "code",
   "execution_count": 40,
   "metadata": {
    "collapsed": false
   },
   "outputs": [
    {
     "data": {
      "image/png": "[encoded data removed]",
      "text/plain": [
       "<matplotlib.figure.Figure at 0x10cf62a20>"
      ]
     },
     "metadata": {},
     "output_type": "display_data"
    }
   ],
   "source": [
    "heatmap = sns.heatmap(chapman_pivot_data,annot=True)"
   ]
  },
  {
   "cell_type": "raw",
   "metadata": {},
   "source": [
    "The above heatmap shows us which zone Chapman throws the most pitches to and the average speed for that zone. This information can be useful to a batter because the better will know the average pitch speed for Chapman and which batting zone he favours. We can see here that between zone 1 and 3 Chapman tends to throw harder but he throws more pitches to his lower zones. "
   ]
  },
  {
   "cell_type": "code",
   "execution_count": null,
   "metadata": {
    "collapsed": true
   },
   "outputs": [],
   "source": []
  }
 ],
 "metadata": {
  "kernelspec": {
   "display_name": "Python 3",
   "language": "python",
   "name": "python3"
  },
  "language_info": {
   "codemirror_mode": {
    "name": "ipython",
    "version": 3
   },
   "file_extension": ".py",
   "mimetype": "text/x-python",
   "name": "python",
   "nbconvert_exporter": "python",
   "pygments_lexer": "ipython3",
   "version": "3.5.1"
  }
 },
 "nbformat": 4,
 "nbformat_minor": 0
}
